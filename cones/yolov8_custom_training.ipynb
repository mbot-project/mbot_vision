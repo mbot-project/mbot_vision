{
  "nbformat": 4,
  "nbformat_minor": 0,
  "metadata": {
    "colab": {
      "provenance": []
    },
    "kernelspec": {
      "name": "python3",
      "display_name": "Python 3"
    },
    "language_info": {
      "name": "python"
    }
  },
  "cells": [
    {
      "cell_type": "code",
      "execution_count": null,
      "metadata": {
        "id": "QRR2lfxvNkby"
      },
      "outputs": [],
      "source": [
        "import os\n",
        "HOME = os.getcwd()\n",
        "print(HOME)\n",
        "\n",
        "# should print: \"/content\""
      ]
    },
    {
      "cell_type": "markdown",
      "source": [
        "**Install YoloV8 from Ultralytics**"
      ],
      "metadata": {
        "id": "FVHtXZMcOLP8"
      }
    },
    {
      "cell_type": "code",
      "source": [
        "!pip install ultralytics==8.0.20\n",
        "\n",
        "from IPython import display\n",
        "display.clear_output()\n",
        "\n",
        "import ultralytics\n",
        "ultralytics.checks()"
      ],
      "metadata": {
        "id": "cUN4AOWfONfw"
      },
      "execution_count": null,
      "outputs": []
    },
    {
      "cell_type": "code",
      "source": [
        "from ultralytics import YOLO\n",
        "\n",
        "from IPython.display import display, Image"
      ],
      "metadata": {
        "id": "ieT1roZLOctR"
      },
      "execution_count": null,
      "outputs": []
    },
    {
      "cell_type": "code",
      "source": [
        "from google.colab import drive\n",
        "drive.mount('/content/gdrive')\n",
        "!ln -s /content/gdrive/My\\ Drive/ /mydrive\n",
        "# !ls /mydrive"
      ],
      "metadata": {
        "id": "6HXGhdSUOvnT"
      },
      "execution_count": null,
      "outputs": []
    },
    {
      "cell_type": "markdown",
      "source": [
        "**Before running the next cell, you must UPLOAD the YoloV8 zip model that you exported from RoboFlow to your Google Drive!**"
      ],
      "metadata": {
        "id": "Jbn4gK3_PH4Y"
      }
    },
    {
      "cell_type": "code",
      "source": [
        "!mkdir {HOME}/datasets\n",
        "%cd {HOME}/datasets\n",
        "\n",
        "# Uncomment and edit the following line to unzip your model:\n",
        "# !unzip /content/gdrive/MyDrive/<your_model_yolov8.zip> # this should point to your model in your google drive"
      ],
      "metadata": {
        "id": "UBT1wNqwPE8H"
      },
      "execution_count": null,
      "outputs": []
    },
    {
      "cell_type": "code",
      "source": [
        "%cd {HOME}\n",
        "\n",
        "# You may edit the number of epochs (reduce to increase training speed, increase to increase accuracy), or adjust the imgsz as needed to match the images you used.\n",
        "!yolo task=detect mode=train model=yolov8n.pt data=/content/datasets/data.yaml epochs=100 imgsz=640 plots=True"
      ],
      "metadata": {
        "id": "d5AUZCuHPq8X"
      },
      "execution_count": null,
      "outputs": []
    },
    {
      "cell_type": "markdown",
      "source": [
        "**Now DOWNLOAD best.pt in \"runs/detect/train/weights\" to your Raspberry Pi / Jetson**"
      ],
      "metadata": {
        "id": "kyFJneaXSiom"
      }
    }
  ]
}